{
  "nbformat": 4,
  "nbformat_minor": 0,
  "metadata": {
    "colab": {
      "provenance": []
    },
    "kernelspec": {
      "name": "python3",
      "display_name": "Python 3"
    },
    "language_info": {
      "name": "python"
    }
  },
  "cells": [
    {
      "cell_type": "markdown",
      "source": [
        "Импорт библиотек и подключение диска"
      ],
      "metadata": {
        "id": "SoqRCBj4uW1W"
      }
    },
    {
      "cell_type": "code",
      "execution_count": null,
      "metadata": {
        "id": "yxe6tBGtDCb1"
      },
      "outputs": [],
      "source": [
        "import numpy as np\n",
        "import pandas as pd\n",
        "from sklearn.model_selection import train_test_split\n",
        "from keras import models\n",
        "from keras import layers\n",
        "from keras import optimizers"
      ]
    },
    {
      "cell_type": "code",
      "source": [
        "from google.colab import drive\n",
        "drive.mount('/content/gdrive')"
      ],
      "metadata": {
        "colab": {
          "base_uri": "https://localhost:8080/"
        },
        "id": "ww6qJP2BDPg5",
        "outputId": "cc68e275-e0ce-480f-ef53-7a7382548bb4"
      },
      "execution_count": null,
      "outputs": [
        {
          "output_type": "stream",
          "name": "stdout",
          "text": [
            "Mounted at /content/gdrive\n"
          ]
        }
      ]
    },
    {
      "cell_type": "code",
      "source": [
        "import seaborn as sns\n",
        "import matplotlib.pyplot as plt"
      ],
      "metadata": {
        "id": "IiXP0F2eDRD1"
      },
      "execution_count": null,
      "outputs": []
    },
    {
      "cell_type": "markdown",
      "source": [
        "Импорт и первичное исследование данных"
      ],
      "metadata": {
        "id": "9QRAE2x3ucPL"
      }
    },
    {
      "cell_type": "code",
      "source": [
        "data = pd.read_excel(\"gdrive/MyDrive/Colab Notebooks/train.xlsx\", nrows=100)"
      ],
      "metadata": {
        "id": "5GkX2CyMDXKq"
      },
      "execution_count": null,
      "outputs": []
    },
    {
      "cell_type": "code",
      "source": [
        "testdata = pd.read_excel(\"gdrive/MyDrive/Colab Notebooks/test.xlsx\", nrows=100)"
      ],
      "metadata": {
        "id": "xY2KZ5hwg3tK"
      },
      "execution_count": null,
      "outputs": []
    },
    {
      "cell_type": "code",
      "source": [
        "data = data.rename(mapper=lambda x: x.split()[0], axis=1)\n",
        "testdata = testdata.rename(mapper=lambda x: x.split()[0], axis=1)"
      ],
      "metadata": {
        "id": "252W2umyDX_B"
      },
      "execution_count": null,
      "outputs": []
    },
    {
      "cell_type": "code",
      "source": [
        "data"
      ],
      "metadata": {
        "colab": {
          "base_uri": "https://localhost:8080/",
          "height": 424
        },
        "id": "BqntAlRaIotG",
        "outputId": "37440b60-677a-45e0-9f90-2945277693f5"
      },
      "execution_count": null,
      "outputs": [
        {
          "output_type": "execute_result",
          "data": {
            "text/plain": [
              "    Rain  Fertilizer  Temperatue  Nitrogen  Phosphorus  Potassium  Yeild\n",
              "0   1230          80          28        80          24         20     12\n",
              "1    480          60          36        70          20         18      8\n",
              "2   1250          75          29        78          22         19     11\n",
              "3    450          65          35        70          19         18      9\n",
              "4   1200          80          27        79          22         19     11\n",
              "..   ...         ...         ...       ...         ...        ...    ...\n",
              "85   450          70          36        72          25         18      8\n",
              "86  1250          77          28        76          22         19     10\n",
              "87   475          60          39        70          20         17      8\n",
              "88  1200          75          28        77          23         19     11\n",
              "89   410          52          40        62          19         16      7\n",
              "\n",
              "[90 rows x 7 columns]"
            ],
            "text/html": [
              "\n",
              "  <div id=\"df-8b8ad5fa-c809-41cf-a765-665a3b001f11\" class=\"colab-df-container\">\n",
              "    <div>\n",
              "<style scoped>\n",
              "    .dataframe tbody tr th:only-of-type {\n",
              "        vertical-align: middle;\n",
              "    }\n",
              "\n",
              "    .dataframe tbody tr th {\n",
              "        vertical-align: top;\n",
              "    }\n",
              "\n",
              "    .dataframe thead th {\n",
              "        text-align: right;\n",
              "    }\n",
              "</style>\n",
              "<table border=\"1\" class=\"dataframe\">\n",
              "  <thead>\n",
              "    <tr style=\"text-align: right;\">\n",
              "      <th></th>\n",
              "      <th>Rain</th>\n",
              "      <th>Fertilizer</th>\n",
              "      <th>Temperatue</th>\n",
              "      <th>Nitrogen</th>\n",
              "      <th>Phosphorus</th>\n",
              "      <th>Potassium</th>\n",
              "      <th>Yeild</th>\n",
              "    </tr>\n",
              "  </thead>\n",
              "  <tbody>\n",
              "    <tr>\n",
              "      <th>0</th>\n",
              "      <td>1230</td>\n",
              "      <td>80</td>\n",
              "      <td>28</td>\n",
              "      <td>80</td>\n",
              "      <td>24</td>\n",
              "      <td>20</td>\n",
              "      <td>12</td>\n",
              "    </tr>\n",
              "    <tr>\n",
              "      <th>1</th>\n",
              "      <td>480</td>\n",
              "      <td>60</td>\n",
              "      <td>36</td>\n",
              "      <td>70</td>\n",
              "      <td>20</td>\n",
              "      <td>18</td>\n",
              "      <td>8</td>\n",
              "    </tr>\n",
              "    <tr>\n",
              "      <th>2</th>\n",
              "      <td>1250</td>\n",
              "      <td>75</td>\n",
              "      <td>29</td>\n",
              "      <td>78</td>\n",
              "      <td>22</td>\n",
              "      <td>19</td>\n",
              "      <td>11</td>\n",
              "    </tr>\n",
              "    <tr>\n",
              "      <th>3</th>\n",
              "      <td>450</td>\n",
              "      <td>65</td>\n",
              "      <td>35</td>\n",
              "      <td>70</td>\n",
              "      <td>19</td>\n",
              "      <td>18</td>\n",
              "      <td>9</td>\n",
              "    </tr>\n",
              "    <tr>\n",
              "      <th>4</th>\n",
              "      <td>1200</td>\n",
              "      <td>80</td>\n",
              "      <td>27</td>\n",
              "      <td>79</td>\n",
              "      <td>22</td>\n",
              "      <td>19</td>\n",
              "      <td>11</td>\n",
              "    </tr>\n",
              "    <tr>\n",
              "      <th>...</th>\n",
              "      <td>...</td>\n",
              "      <td>...</td>\n",
              "      <td>...</td>\n",
              "      <td>...</td>\n",
              "      <td>...</td>\n",
              "      <td>...</td>\n",
              "      <td>...</td>\n",
              "    </tr>\n",
              "    <tr>\n",
              "      <th>85</th>\n",
              "      <td>450</td>\n",
              "      <td>70</td>\n",
              "      <td>36</td>\n",
              "      <td>72</td>\n",
              "      <td>25</td>\n",
              "      <td>18</td>\n",
              "      <td>8</td>\n",
              "    </tr>\n",
              "    <tr>\n",
              "      <th>86</th>\n",
              "      <td>1250</td>\n",
              "      <td>77</td>\n",
              "      <td>28</td>\n",
              "      <td>76</td>\n",
              "      <td>22</td>\n",
              "      <td>19</td>\n",
              "      <td>10</td>\n",
              "    </tr>\n",
              "    <tr>\n",
              "      <th>87</th>\n",
              "      <td>475</td>\n",
              "      <td>60</td>\n",
              "      <td>39</td>\n",
              "      <td>70</td>\n",
              "      <td>20</td>\n",
              "      <td>17</td>\n",
              "      <td>8</td>\n",
              "    </tr>\n",
              "    <tr>\n",
              "      <th>88</th>\n",
              "      <td>1200</td>\n",
              "      <td>75</td>\n",
              "      <td>28</td>\n",
              "      <td>77</td>\n",
              "      <td>23</td>\n",
              "      <td>19</td>\n",
              "      <td>11</td>\n",
              "    </tr>\n",
              "    <tr>\n",
              "      <th>89</th>\n",
              "      <td>410</td>\n",
              "      <td>52</td>\n",
              "      <td>40</td>\n",
              "      <td>62</td>\n",
              "      <td>19</td>\n",
              "      <td>16</td>\n",
              "      <td>7</td>\n",
              "    </tr>\n",
              "  </tbody>\n",
              "</table>\n",
              "<p>90 rows × 7 columns</p>\n",
              "</div>\n",
              "    <div class=\"colab-df-buttons\">\n",
              "\n",
              "  <div class=\"colab-df-container\">\n",
              "    <button class=\"colab-df-convert\" onclick=\"convertToInteractive('df-8b8ad5fa-c809-41cf-a765-665a3b001f11')\"\n",
              "            title=\"Convert this dataframe to an interactive table.\"\n",
              "            style=\"display:none;\">\n",
              "\n",
              "  <svg xmlns=\"http://www.w3.org/2000/svg\" height=\"24px\" viewBox=\"0 -960 960 960\">\n",
              "    <path d=\"M120-120v-720h720v720H120Zm60-500h600v-160H180v160Zm220 220h160v-160H400v160Zm0 220h160v-160H400v160ZM180-400h160v-160H180v160Zm440 0h160v-160H620v160ZM180-180h160v-160H180v160Zm440 0h160v-160H620v160Z\"/>\n",
              "  </svg>\n",
              "    </button>\n",
              "\n",
              "  <style>\n",
              "    .colab-df-container {\n",
              "      display:flex;\n",
              "      gap: 12px;\n",
              "    }\n",
              "\n",
              "    .colab-df-convert {\n",
              "      background-color: #E8F0FE;\n",
              "      border: none;\n",
              "      border-radius: 50%;\n",
              "      cursor: pointer;\n",
              "      display: none;\n",
              "      fill: #1967D2;\n",
              "      height: 32px;\n",
              "      padding: 0 0 0 0;\n",
              "      width: 32px;\n",
              "    }\n",
              "\n",
              "    .colab-df-convert:hover {\n",
              "      background-color: #E2EBFA;\n",
              "      box-shadow: 0px 1px 2px rgba(60, 64, 67, 0.3), 0px 1px 3px 1px rgba(60, 64, 67, 0.15);\n",
              "      fill: #174EA6;\n",
              "    }\n",
              "\n",
              "    .colab-df-buttons div {\n",
              "      margin-bottom: 4px;\n",
              "    }\n",
              "\n",
              "    [theme=dark] .colab-df-convert {\n",
              "      background-color: #3B4455;\n",
              "      fill: #D2E3FC;\n",
              "    }\n",
              "\n",
              "    [theme=dark] .colab-df-convert:hover {\n",
              "      background-color: #434B5C;\n",
              "      box-shadow: 0px 1px 3px 1px rgba(0, 0, 0, 0.15);\n",
              "      filter: drop-shadow(0px 1px 2px rgba(0, 0, 0, 0.3));\n",
              "      fill: #FFFFFF;\n",
              "    }\n",
              "  </style>\n",
              "\n",
              "    <script>\n",
              "      const buttonEl =\n",
              "        document.querySelector('#df-8b8ad5fa-c809-41cf-a765-665a3b001f11 button.colab-df-convert');\n",
              "      buttonEl.style.display =\n",
              "        google.colab.kernel.accessAllowed ? 'block' : 'none';\n",
              "\n",
              "      async function convertToInteractive(key) {\n",
              "        const element = document.querySelector('#df-8b8ad5fa-c809-41cf-a765-665a3b001f11');\n",
              "        const dataTable =\n",
              "          await google.colab.kernel.invokeFunction('convertToInteractive',\n",
              "                                                    [key], {});\n",
              "        if (!dataTable) return;\n",
              "\n",
              "        const docLinkHtml = 'Like what you see? Visit the ' +\n",
              "          '<a target=\"_blank\" href=https://colab.research.google.com/notebooks/data_table.ipynb>data table notebook</a>'\n",
              "          + ' to learn more about interactive tables.';\n",
              "        element.innerHTML = '';\n",
              "        dataTable['output_type'] = 'display_data';\n",
              "        await google.colab.output.renderOutput(dataTable, element);\n",
              "        const docLink = document.createElement('div');\n",
              "        docLink.innerHTML = docLinkHtml;\n",
              "        element.appendChild(docLink);\n",
              "      }\n",
              "    </script>\n",
              "  </div>\n",
              "\n",
              "\n",
              "<div id=\"df-1b23fb22-3f6a-4f53-93f7-71cc49e8cc36\">\n",
              "  <button class=\"colab-df-quickchart\" onclick=\"quickchart('df-1b23fb22-3f6a-4f53-93f7-71cc49e8cc36')\"\n",
              "            title=\"Suggest charts\"\n",
              "            style=\"display:none;\">\n",
              "\n",
              "<svg xmlns=\"http://www.w3.org/2000/svg\" height=\"24px\"viewBox=\"0 0 24 24\"\n",
              "     width=\"24px\">\n",
              "    <g>\n",
              "        <path d=\"M19 3H5c-1.1 0-2 .9-2 2v14c0 1.1.9 2 2 2h14c1.1 0 2-.9 2-2V5c0-1.1-.9-2-2-2zM9 17H7v-7h2v7zm4 0h-2V7h2v10zm4 0h-2v-4h2v4z\"/>\n",
              "    </g>\n",
              "</svg>\n",
              "  </button>\n",
              "\n",
              "<style>\n",
              "  .colab-df-quickchart {\n",
              "      --bg-color: #E8F0FE;\n",
              "      --fill-color: #1967D2;\n",
              "      --hover-bg-color: #E2EBFA;\n",
              "      --hover-fill-color: #174EA6;\n",
              "      --disabled-fill-color: #AAA;\n",
              "      --disabled-bg-color: #DDD;\n",
              "  }\n",
              "\n",
              "  [theme=dark] .colab-df-quickchart {\n",
              "      --bg-color: #3B4455;\n",
              "      --fill-color: #D2E3FC;\n",
              "      --hover-bg-color: #434B5C;\n",
              "      --hover-fill-color: #FFFFFF;\n",
              "      --disabled-bg-color: #3B4455;\n",
              "      --disabled-fill-color: #666;\n",
              "  }\n",
              "\n",
              "  .colab-df-quickchart {\n",
              "    background-color: var(--bg-color);\n",
              "    border: none;\n",
              "    border-radius: 50%;\n",
              "    cursor: pointer;\n",
              "    display: none;\n",
              "    fill: var(--fill-color);\n",
              "    height: 32px;\n",
              "    padding: 0;\n",
              "    width: 32px;\n",
              "  }\n",
              "\n",
              "  .colab-df-quickchart:hover {\n",
              "    background-color: var(--hover-bg-color);\n",
              "    box-shadow: 0 1px 2px rgba(60, 64, 67, 0.3), 0 1px 3px 1px rgba(60, 64, 67, 0.15);\n",
              "    fill: var(--button-hover-fill-color);\n",
              "  }\n",
              "\n",
              "  .colab-df-quickchart-complete:disabled,\n",
              "  .colab-df-quickchart-complete:disabled:hover {\n",
              "    background-color: var(--disabled-bg-color);\n",
              "    fill: var(--disabled-fill-color);\n",
              "    box-shadow: none;\n",
              "  }\n",
              "\n",
              "  .colab-df-spinner {\n",
              "    border: 2px solid var(--fill-color);\n",
              "    border-color: transparent;\n",
              "    border-bottom-color: var(--fill-color);\n",
              "    animation:\n",
              "      spin 1s steps(1) infinite;\n",
              "  }\n",
              "\n",
              "  @keyframes spin {\n",
              "    0% {\n",
              "      border-color: transparent;\n",
              "      border-bottom-color: var(--fill-color);\n",
              "      border-left-color: var(--fill-color);\n",
              "    }\n",
              "    20% {\n",
              "      border-color: transparent;\n",
              "      border-left-color: var(--fill-color);\n",
              "      border-top-color: var(--fill-color);\n",
              "    }\n",
              "    30% {\n",
              "      border-color: transparent;\n",
              "      border-left-color: var(--fill-color);\n",
              "      border-top-color: var(--fill-color);\n",
              "      border-right-color: var(--fill-color);\n",
              "    }\n",
              "    40% {\n",
              "      border-color: transparent;\n",
              "      border-right-color: var(--fill-color);\n",
              "      border-top-color: var(--fill-color);\n",
              "    }\n",
              "    60% {\n",
              "      border-color: transparent;\n",
              "      border-right-color: var(--fill-color);\n",
              "    }\n",
              "    80% {\n",
              "      border-color: transparent;\n",
              "      border-right-color: var(--fill-color);\n",
              "      border-bottom-color: var(--fill-color);\n",
              "    }\n",
              "    90% {\n",
              "      border-color: transparent;\n",
              "      border-bottom-color: var(--fill-color);\n",
              "    }\n",
              "  }\n",
              "</style>\n",
              "\n",
              "  <script>\n",
              "    async function quickchart(key) {\n",
              "      const quickchartButtonEl =\n",
              "        document.querySelector('#' + key + ' button');\n",
              "      quickchartButtonEl.disabled = true;  // To prevent multiple clicks.\n",
              "      quickchartButtonEl.classList.add('colab-df-spinner');\n",
              "      try {\n",
              "        const charts = await google.colab.kernel.invokeFunction(\n",
              "            'suggestCharts', [key], {});\n",
              "      } catch (error) {\n",
              "        console.error('Error during call to suggestCharts:', error);\n",
              "      }\n",
              "      quickchartButtonEl.classList.remove('colab-df-spinner');\n",
              "      quickchartButtonEl.classList.add('colab-df-quickchart-complete');\n",
              "    }\n",
              "    (() => {\n",
              "      let quickchartButtonEl =\n",
              "        document.querySelector('#df-1b23fb22-3f6a-4f53-93f7-71cc49e8cc36 button');\n",
              "      quickchartButtonEl.style.display =\n",
              "        google.colab.kernel.accessAllowed ? 'block' : 'none';\n",
              "    })();\n",
              "  </script>\n",
              "</div>\n",
              "    </div>\n",
              "  </div>\n"
            ],
            "application/vnd.google.colaboratory.intrinsic+json": {
              "type": "dataframe",
              "variable_name": "data",
              "summary": "{\n  \"name\": \"data\",\n  \"rows\": 90,\n  \"fields\": [\n    {\n      \"column\": \"Rain\",\n      \"properties\": {\n        \"dtype\": \"number\",\n        \"std\": 402,\n        \"min\": 400,\n        \"max\": 1300,\n        \"num_unique_values\": 25,\n        \"samples\": [\n          400,\n          475,\n          1230\n        ],\n        \"semantic_type\": \"\",\n        \"description\": \"\"\n      }\n    },\n    {\n      \"column\": \"Fertilizer\",\n      \"properties\": {\n        \"dtype\": \"number\",\n        \"std\": 10,\n        \"min\": 50,\n        \"max\": 80,\n        \"num_unique_values\": 19,\n        \"samples\": [\n          80,\n          71,\n          76\n        ],\n        \"semantic_type\": \"\",\n        \"description\": \"\"\n      }\n    },\n    {\n      \"column\": \"Temperatue\",\n      \"properties\": {\n        \"dtype\": \"number\",\n        \"std\": 5,\n        \"min\": 24,\n        \"max\": 40,\n        \"num_unique_values\": 13,\n        \"samples\": [\n          25,\n          38,\n          28\n        ],\n        \"semantic_type\": \"\",\n        \"description\": \"\"\n      }\n    },\n    {\n      \"column\": \"Nitrogen\",\n      \"properties\": {\n        \"dtype\": \"number\",\n        \"std\": 6,\n        \"min\": 59,\n        \"max\": 80,\n        \"num_unique_values\": 21,\n        \"samples\": [\n          80,\n          63,\n          68\n        ],\n        \"semantic_type\": \"\",\n        \"description\": \"\"\n      }\n    },\n    {\n      \"column\": \"Phosphorus\",\n      \"properties\": {\n        \"dtype\": \"number\",\n        \"std\": 1,\n        \"min\": 18,\n        \"max\": 25,\n        \"num_unique_values\": 8,\n        \"samples\": [\n          20,\n          18,\n          24\n        ],\n        \"semantic_type\": \"\",\n        \"description\": \"\"\n      }\n    },\n    {\n      \"column\": \"Potassium\",\n      \"properties\": {\n        \"dtype\": \"number\",\n        \"std\": 1,\n        \"min\": 15,\n        \"max\": 22,\n        \"num_unique_values\": 8,\n        \"samples\": [\n          18,\n          17,\n          20\n        ],\n        \"semantic_type\": \"\",\n        \"description\": \"\"\n      }\n    },\n    {\n      \"column\": \"Yeild\",\n      \"properties\": {\n        \"dtype\": \"number\",\n        \"std\": 1,\n        \"min\": 6,\n        \"max\": 12,\n        \"num_unique_values\": 7,\n        \"samples\": [\n          12,\n          8,\n          7\n        ],\n        \"semantic_type\": \"\",\n        \"description\": \"\"\n      }\n    }\n  ]\n}"
            }
          },
          "metadata": {},
          "execution_count": 7
        }
      ]
    },
    {
      "cell_type": "markdown",
      "source": [
        "Разбиение данных и исследование корреляции"
      ],
      "metadata": {
        "id": "BA1_aE6ouiLd"
      }
    },
    {
      "cell_type": "code",
      "source": [
        "X = data.copy()\n",
        "y = X.pop(\"Yeild\")"
      ],
      "metadata": {
        "id": "P5us_IBGDi1Y"
      },
      "execution_count": null,
      "outputs": []
    },
    {
      "cell_type": "code",
      "source": [
        "X_test = testdata.copy()\n",
        "y_test = X_test.pop(\"Yeild\")"
      ],
      "metadata": {
        "id": "LVbj2PvyiKH-"
      },
      "execution_count": null,
      "outputs": []
    },
    {
      "cell_type": "code",
      "source": [
        "corr = data.corr()\n",
        "mask = np.triu(np.ones_like(corr, dtype=bool))\n",
        "\n",
        "f, ax = plt.subplots(figsize=(11, 9))\n",
        "\n",
        "cmap = sns.diverging_palette(230, 20, as_cmap=True)\n",
        "\n",
        "sns.heatmap(corr, mask=mask, cmap=cmap, vmax=.3, center=0,\n",
        "            square=True, linewidths=.5, cbar_kws={\"shrink\": .5})"
      ],
      "metadata": {
        "colab": {
          "base_uri": "https://localhost:8080/",
          "height": 759
        },
        "id": "dImx6jfLd_Y3",
        "outputId": "3e9e7d0b-cdf3-45d4-dc5d-1403f69c799c"
      },
      "execution_count": null,
      "outputs": [
        {
          "output_type": "execute_result",
          "data": {
            "text/plain": [
              "<Axes: >"
            ]
          },
          "metadata": {},
          "execution_count": 10
        },
        {
          "output_type": "display_data",
          "data": {
            "text/plain": [
              "<Figure size 1100x900 with 2 Axes>"
            ],
            "image/png": "[encoded data removed]"
          },
          "metadata": {}
        }
      ]
    },
    {
      "cell_type": "code",
      "source": [
        "X_train, X_valid, y_train, y_valid = train_test_split(X, y, test_size=0.11)"
      ],
      "metadata": {
        "id": "PS-m-MGrZ8uK"
      },
      "execution_count": null,
      "outputs": []
    },
    {
      "cell_type": "markdown",
      "source": [
        "Шкалирование данных"
      ],
      "metadata": {
        "id": "jebr1FKSusYB"
      }
    },
    {
      "cell_type": "code",
      "source": [
        "from sklearn.preprocessing import MinMaxScaler\n",
        "\n",
        "scalar = MinMaxScaler()\n",
        "scalar.fit(X_train)\n",
        "X_train_s = scalar.transform(X_train)\n",
        "X_valid_s = scalar.transform(X_valid)\n",
        "X_test_s = scalar.transform(X_test)"
      ],
      "metadata": {
        "id": "Qf-XiWrTXmWA"
      },
      "execution_count": null,
      "outputs": []
    },
    {
      "cell_type": "markdown",
      "source": [
        "Обучение модели"
      ],
      "metadata": {
        "id": "8nPS59dhuvKc"
      }
    },
    {
      "cell_type": "code",
      "source": [
        "#\n",
        "# Set up the network\n",
        "#\n",
        "network = models.Sequential()\n",
        "network.add(layers.Dense(7, activation='sigmoid', input_shape=(6,)))\n",
        "network.add(layers.Dense(1))\n",
        "#\n",
        "# Configure the network with optimizer, loss function and accuracy\n",
        "#\n",
        "network.compile(optimizer=optimizers.SGD(learning_rate=0.01,\n",
        "                                         momentum=0.1,\n",
        "                                         nesterov=True),\n",
        "                loss='mse',\n",
        "                metrics=['mse'])\n",
        "#\n",
        "# Create training and test split\n",
        "\n",
        "# Fit the network\n",
        "#\n",
        "history = network.fit(X_train_s, y_train,\n",
        "                    validation_data=(X_valid_s, y_valid),\n",
        "                    epochs=70,\n",
        "                    batch_size=2)"
      ],
      "metadata": {
        "colab": {
          "base_uri": "https://localhost:8080/"
        },
        "id": "i-hBBwv1WHwj",
        "outputId": "fb0376ce-bd93-4bb0-a96d-8cbb121759cc"
      },
      "execution_count": null,
      "outputs": [
        {
          "output_type": "stream",
          "name": "stdout",
          "text": [
            "Epoch 1/70\n",
            "40/40 [==============================] - 1s 8ms/step - loss: 17.7166 - mse: 17.7166 - val_loss: 2.4100 - val_mse: 2.4100\n",
            "Epoch 2/70\n",
            "40/40 [==============================] - 0s 3ms/step - loss: 1.6958 - mse: 1.6958 - val_loss: 1.4710 - val_mse: 1.4710\n",
            "Epoch 3/70\n",
            "40/40 [==============================] - 0s 3ms/step - loss: 1.1982 - mse: 1.1982 - val_loss: 1.0908 - val_mse: 1.0908\n",
            "Epoch 4/70\n",
            "40/40 [==============================] - 0s 2ms/step - loss: 0.8914 - mse: 0.8914 - val_loss: 0.7744 - val_mse: 0.7744\n",
            "Epoch 5/70\n",
            "40/40 [==============================] - 0s 3ms/step - loss: 0.7144 - mse: 0.7144 - val_loss: 0.6028 - val_mse: 0.6028\n",
            "Epoch 6/70\n",
            "40/40 [==============================] - 0s 3ms/step - loss: 0.6150 - mse: 0.6150 - val_loss: 0.5141 - val_mse: 0.5141\n",
            "Epoch 7/70\n",
            "40/40 [==============================] - 0s 3ms/step - loss: 0.5772 - mse: 0.5772 - val_loss: 0.4512 - val_mse: 0.4512\n",
            "Epoch 8/70\n",
            "40/40 [==============================] - 0s 3ms/step - loss: 0.5358 - mse: 0.5358 - val_loss: 0.4150 - val_mse: 0.4150\n",
            "Epoch 9/70\n",
            "40/40 [==============================] - 0s 3ms/step - loss: 0.5280 - mse: 0.5280 - val_loss: 0.3942 - val_mse: 0.3942\n",
            "Epoch 10/70\n",
            "40/40 [==============================] - 0s 3ms/step - loss: 0.5073 - mse: 0.5073 - val_loss: 0.4116 - val_mse: 0.4116\n",
            "Epoch 11/70\n",
            "40/40 [==============================] - 0s 3ms/step - loss: 0.5235 - mse: 0.5235 - val_loss: 0.3733 - val_mse: 0.3733\n",
            "Epoch 12/70\n",
            "40/40 [==============================] - 0s 3ms/step - loss: 0.5004 - mse: 0.5004 - val_loss: 0.3924 - val_mse: 0.3924\n",
            "Epoch 13/70\n",
            "40/40 [==============================] - 0s 3ms/step - loss: 0.4897 - mse: 0.4897 - val_loss: 0.4334 - val_mse: 0.4334\n",
            "Epoch 14/70\n",
            "40/40 [==============================] - 0s 3ms/step - loss: 0.5171 - mse: 0.5171 - val_loss: 0.3737 - val_mse: 0.3737\n",
            "Epoch 15/70\n",
            "40/40 [==============================] - 0s 3ms/step - loss: 0.4977 - mse: 0.4977 - val_loss: 0.3667 - val_mse: 0.3667\n",
            "Epoch 16/70\n",
            "40/40 [==============================] - 0s 3ms/step - loss: 0.4944 - mse: 0.4944 - val_loss: 0.3722 - val_mse: 0.3722\n",
            "Epoch 17/70\n",
            "40/40 [==============================] - 0s 3ms/step - loss: 0.4759 - mse: 0.4759 - val_loss: 0.4054 - val_mse: 0.4054\n",
            "Epoch 18/70\n",
            "40/40 [==============================] - 0s 3ms/step - loss: 0.4875 - mse: 0.4875 - val_loss: 0.3751 - val_mse: 0.3751\n",
            "Epoch 19/70\n",
            "40/40 [==============================] - 0s 2ms/step - loss: 0.4881 - mse: 0.4881 - val_loss: 0.3731 - val_mse: 0.3731\n",
            "Epoch 20/70\n",
            "40/40 [==============================] - 0s 3ms/step - loss: 0.4935 - mse: 0.4935 - val_loss: 0.3651 - val_mse: 0.3651\n",
            "Epoch 21/70\n",
            "40/40 [==============================] - 0s 3ms/step - loss: 0.4808 - mse: 0.4808 - val_loss: 0.3634 - val_mse: 0.3634\n",
            "Epoch 22/70\n",
            "40/40 [==============================] - 0s 3ms/step - loss: 0.4810 - mse: 0.4810 - val_loss: 0.3639 - val_mse: 0.3639\n",
            "Epoch 23/70\n",
            "40/40 [==============================] - 0s 3ms/step - loss: 0.4836 - mse: 0.4836 - val_loss: 0.3666 - val_mse: 0.3666\n",
            "Epoch 24/70\n",
            "40/40 [==============================] - 0s 3ms/step - loss: 0.4796 - mse: 0.4796 - val_loss: 0.3894 - val_mse: 0.3894\n",
            "Epoch 25/70\n",
            "40/40 [==============================] - 0s 3ms/step - loss: 0.4685 - mse: 0.4685 - val_loss: 0.3720 - val_mse: 0.3720\n",
            "Epoch 26/70\n",
            "40/40 [==============================] - 0s 3ms/step - loss: 0.4747 - mse: 0.4747 - val_loss: 0.3611 - val_mse: 0.3611\n",
            "Epoch 27/70\n",
            "40/40 [==============================] - 0s 3ms/step - loss: 0.4637 - mse: 0.4637 - val_loss: 0.4023 - val_mse: 0.4023\n",
            "Epoch 28/70\n",
            "40/40 [==============================] - 0s 4ms/step - loss: 0.4606 - mse: 0.4606 - val_loss: 0.3953 - val_mse: 0.3953\n",
            "Epoch 29/70\n",
            "40/40 [==============================] - 0s 4ms/step - loss: 0.4742 - mse: 0.4742 - val_loss: 0.3909 - val_mse: 0.3909\n",
            "Epoch 30/70\n",
            "40/40 [==============================] - 0s 4ms/step - loss: 0.4699 - mse: 0.4699 - val_loss: 0.3623 - val_mse: 0.3623\n",
            "Epoch 31/70\n",
            "40/40 [==============================] - 0s 4ms/step - loss: 0.4783 - mse: 0.4783 - val_loss: 0.3735 - val_mse: 0.3735\n",
            "Epoch 32/70\n",
            "40/40 [==============================] - 0s 4ms/step - loss: 0.4619 - mse: 0.4619 - val_loss: 0.3637 - val_mse: 0.3637\n",
            "Epoch 33/70\n",
            "40/40 [==============================] - 0s 5ms/step - loss: 0.4659 - mse: 0.4659 - val_loss: 0.3676 - val_mse: 0.3676\n",
            "Epoch 34/70\n",
            "40/40 [==============================] - 0s 5ms/step - loss: 0.4608 - mse: 0.4608 - val_loss: 0.3664 - val_mse: 0.3664\n",
            "Epoch 35/70\n",
            "40/40 [==============================] - 0s 4ms/step - loss: 0.4460 - mse: 0.4460 - val_loss: 0.3673 - val_mse: 0.3673\n",
            "Epoch 36/70\n",
            "40/40 [==============================] - 0s 5ms/step - loss: 0.4570 - mse: 0.4570 - val_loss: 0.3679 - val_mse: 0.3679\n",
            "Epoch 37/70\n",
            "40/40 [==============================] - 0s 4ms/step - loss: 0.4526 - mse: 0.4526 - val_loss: 0.3691 - val_mse: 0.3691\n",
            "Epoch 38/70\n",
            "40/40 [==============================] - 0s 4ms/step - loss: 0.4612 - mse: 0.4612 - val_loss: 0.3721 - val_mse: 0.3721\n",
            "Epoch 39/70\n",
            "40/40 [==============================] - 0s 4ms/step - loss: 0.4566 - mse: 0.4566 - val_loss: 0.3772 - val_mse: 0.3772\n",
            "Epoch 40/70\n",
            "40/40 [==============================] - 0s 4ms/step - loss: 0.4340 - mse: 0.4340 - val_loss: 0.4151 - val_mse: 0.4151\n",
            "Epoch 41/70\n",
            "40/40 [==============================] - 0s 5ms/step - loss: 0.4324 - mse: 0.4324 - val_loss: 0.3770 - val_mse: 0.3770\n",
            "Epoch 42/70\n",
            "40/40 [==============================] - 0s 4ms/step - loss: 0.4592 - mse: 0.4592 - val_loss: 0.3752 - val_mse: 0.3752\n",
            "Epoch 43/70\n",
            "40/40 [==============================] - 0s 4ms/step - loss: 0.4453 - mse: 0.4453 - val_loss: 0.3853 - val_mse: 0.3853\n",
            "Epoch 44/70\n",
            "40/40 [==============================] - 0s 4ms/step - loss: 0.4489 - mse: 0.4489 - val_loss: 0.3763 - val_mse: 0.3763\n",
            "Epoch 45/70\n",
            "40/40 [==============================] - 0s 5ms/step - loss: 0.4487 - mse: 0.4487 - val_loss: 0.3792 - val_mse: 0.3792\n",
            "Epoch 46/70\n",
            "40/40 [==============================] - 0s 4ms/step - loss: 0.4421 - mse: 0.4421 - val_loss: 0.3841 - val_mse: 0.3841\n",
            "Epoch 47/70\n",
            "40/40 [==============================] - 0s 4ms/step - loss: 0.4351 - mse: 0.4351 - val_loss: 0.3915 - val_mse: 0.3915\n",
            "Epoch 48/70\n",
            "40/40 [==============================] - 0s 5ms/step - loss: 0.4440 - mse: 0.4440 - val_loss: 0.4294 - val_mse: 0.4294\n",
            "Epoch 49/70\n",
            "40/40 [==============================] - 0s 3ms/step - loss: 0.4395 - mse: 0.4395 - val_loss: 0.3840 - val_mse: 0.3840\n",
            "Epoch 50/70\n",
            "40/40 [==============================] - 0s 3ms/step - loss: 0.4362 - mse: 0.4362 - val_loss: 0.3891 - val_mse: 0.3891\n",
            "Epoch 51/70\n",
            "40/40 [==============================] - 0s 3ms/step - loss: 0.4432 - mse: 0.4432 - val_loss: 0.3842 - val_mse: 0.3842\n",
            "Epoch 52/70\n",
            "40/40 [==============================] - 0s 3ms/step - loss: 0.4241 - mse: 0.4241 - val_loss: 0.4039 - val_mse: 0.4039\n",
            "Epoch 53/70\n",
            "40/40 [==============================] - 0s 3ms/step - loss: 0.4335 - mse: 0.4335 - val_loss: 0.4106 - val_mse: 0.4106\n",
            "Epoch 54/70\n",
            "40/40 [==============================] - 0s 3ms/step - loss: 0.4445 - mse: 0.4445 - val_loss: 0.3979 - val_mse: 0.3979\n",
            "Epoch 55/70\n",
            "40/40 [==============================] - 0s 2ms/step - loss: 0.4283 - mse: 0.4283 - val_loss: 0.3873 - val_mse: 0.3873\n",
            "Epoch 56/70\n",
            "40/40 [==============================] - 0s 3ms/step - loss: 0.4154 - mse: 0.4154 - val_loss: 0.3943 - val_mse: 0.3943\n",
            "Epoch 57/70\n",
            "40/40 [==============================] - 0s 3ms/step - loss: 0.4365 - mse: 0.4365 - val_loss: 0.4673 - val_mse: 0.4673\n",
            "Epoch 58/70\n",
            "40/40 [==============================] - 0s 3ms/step - loss: 0.4389 - mse: 0.4389 - val_loss: 0.4003 - val_mse: 0.4003\n",
            "Epoch 59/70\n",
            "40/40 [==============================] - 0s 2ms/step - loss: 0.4226 - mse: 0.4226 - val_loss: 0.4018 - val_mse: 0.4018\n",
            "Epoch 60/70\n",
            "40/40 [==============================] - 0s 3ms/step - loss: 0.4281 - mse: 0.4281 - val_loss: 0.3991 - val_mse: 0.3991\n",
            "Epoch 61/70\n",
            "40/40 [==============================] - 0s 3ms/step - loss: 0.4257 - mse: 0.4257 - val_loss: 0.3918 - val_mse: 0.3918\n",
            "Epoch 62/70\n",
            "40/40 [==============================] - 0s 3ms/step - loss: 0.4308 - mse: 0.4308 - val_loss: 0.3991 - val_mse: 0.3991\n",
            "Epoch 63/70\n",
            "40/40 [==============================] - 0s 3ms/step - loss: 0.4237 - mse: 0.4237 - val_loss: 0.4006 - val_mse: 0.4006\n",
            "Epoch 64/70\n",
            "40/40 [==============================] - 0s 2ms/step - loss: 0.4288 - mse: 0.4288 - val_loss: 0.4133 - val_mse: 0.4133\n",
            "Epoch 65/70\n",
            "40/40 [==============================] - 0s 3ms/step - loss: 0.4219 - mse: 0.4219 - val_loss: 0.4675 - val_mse: 0.4675\n",
            "Epoch 66/70\n",
            "40/40 [==============================] - 0s 2ms/step - loss: 0.4185 - mse: 0.4185 - val_loss: 0.4874 - val_mse: 0.4874\n",
            "Epoch 67/70\n",
            "40/40 [==============================] - 0s 3ms/step - loss: 0.4288 - mse: 0.4288 - val_loss: 0.4000 - val_mse: 0.4000\n",
            "Epoch 68/70\n",
            "40/40 [==============================] - 0s 3ms/step - loss: 0.4170 - mse: 0.4170 - val_loss: 0.4362 - val_mse: 0.4362\n",
            "Epoch 69/70\n",
            "40/40 [==============================] - 0s 3ms/step - loss: 0.4269 - mse: 0.4269 - val_loss: 0.3993 - val_mse: 0.3993\n",
            "Epoch 70/70\n",
            "40/40 [==============================] - 0s 3ms/step - loss: 0.4200 - mse: 0.4200 - val_loss: 0.4015 - val_mse: 0.4015\n"
          ]
        }
      ]
    },
    {
      "cell_type": "markdown",
      "source": [
        "Предсказание на train"
      ],
      "metadata": {
        "id": "8XaNxMzoux91"
      }
    },
    {
      "cell_type": "code",
      "source": [
        "train_pred = network.predict(X_train_s)"
      ],
      "metadata": {
        "colab": {
          "base_uri": "https://localhost:8080/"
        },
        "id": "Q6V1V5QeXdVW",
        "outputId": "aeeb4f7a-7301-44a8-d108-db770ab0383b"
      },
      "execution_count": null,
      "outputs": [
        {
          "output_type": "stream",
          "name": "stdout",
          "text": [
            "3/3 [==============================] - 0s 4ms/step\n"
          ]
        }
      ]
    },
    {
      "cell_type": "code",
      "source": [
        "1 - np.sum((train_pred.T[0] - y_train.to_numpy())**2) / (np.var(y_train) * 80) # Детерминация"
      ],
      "metadata": {
        "colab": {
          "base_uri": "https://localhost:8080/"
        },
        "id": "WebtrmLKYKhA",
        "outputId": "f2ea41ba-ede1-4e60-e563-64e98bc114dd"
      },
      "execution_count": null,
      "outputs": [
        {
          "output_type": "execute_result",
          "data": {
            "text/plain": [
              "0.892956553341286"
            ]
          },
          "metadata": {},
          "execution_count": 36
        }
      ]
    },
    {
      "cell_type": "markdown",
      "source": [
        "Предсказание на test"
      ],
      "metadata": {
        "id": "61NDRZicu_4D"
      }
    },
    {
      "cell_type": "code",
      "source": [
        "test_pred = network.predict(X_test_s)"
      ],
      "metadata": {
        "colab": {
          "base_uri": "https://localhost:8080/"
        },
        "id": "9ELrGtL2EK9n",
        "outputId": "7477a1c2-6cf7-47c1-c81d-78c2116438cb"
      },
      "execution_count": null,
      "outputs": [
        {
          "output_type": "stream",
          "name": "stdout",
          "text": [
            "1/1 [==============================] - 0s 23ms/step\n"
          ]
        }
      ]
    },
    {
      "cell_type": "code",
      "source": [
        "test_pred"
      ],
      "metadata": {
        "colab": {
          "base_uri": "https://localhost:8080/"
        },
        "id": "Uilg2iTbjikI",
        "outputId": "acc9faed-8634-4114-f4c8-4773a4e6edc9"
      },
      "execution_count": null,
      "outputs": [
        {
          "output_type": "execute_result",
          "data": {
            "text/plain": [
              "array([[10.872639 ],\n",
              "       [ 6.62351  ],\n",
              "       [10.315604 ],\n",
              "       [ 6.7182536],\n",
              "       [11.111124 ],\n",
              "       [ 7.429877 ],\n",
              "       [11.283827 ],\n",
              "       [ 7.755755 ],\n",
              "       [11.272566 ]], dtype=float32)"
            ]
          },
          "metadata": {},
          "execution_count": 38
        }
      ]
    },
    {
      "cell_type": "code",
      "source": [
        "1 - np.sum((test_pred.T[0] - y_test.to_numpy())**2) / (np.var(y_test) * 9) # Детерминация"
      ],
      "metadata": {
        "colab": {
          "base_uri": "https://localhost:8080/"
        },
        "id": "88GxLEtivJ9Y",
        "outputId": "5a054daf-ce26-47eb-d90f-38e37b10439f"
      },
      "execution_count": null,
      "outputs": [
        {
          "output_type": "execute_result",
          "data": {
            "text/plain": [
              "0.6881941205272597"
            ]
          },
          "metadata": {},
          "execution_count": 41
        }
      ]
    },
    {
      "cell_type": "markdown",
      "source": [
        "Сравнение предсказаний с реальными данными"
      ],
      "metadata": {
        "id": "vsfaj1EWvOkh"
      }
    },
    {
      "cell_type": "code",
      "source": [
        "pd.DataFrame(np.array([test_pred.T[0], y_test]).T, columns=[\"Предсказание\", \"Реальные данные\"], index=[1,2,3,4,5,6,7,8,9]).plot.bar()"
      ],
      "metadata": {
        "colab": {
          "base_uri": "https://localhost:8080/",
          "height": 442
        },
        "id": "CJlSw8IvcMol",
        "outputId": "e44248e9-1bd7-4505-f23b-d29a1ba9052b"
      },
      "execution_count": null,
      "outputs": [
        {
          "output_type": "execute_result",
          "data": {
            "text/plain": [
              "<Axes: >"
            ]
          },
          "metadata": {},
          "execution_count": 22
        },
        {
          "output_type": "display_data",
          "data": {
            "text/plain": [
              "<Figure size 640x480 with 1 Axes>"
            ],
            "image/png": "[encoded data removed]"
          },
          "metadata": {}
        }
      ]
    },
    {
      "cell_type": "markdown",
      "source": [
        "Эксперименты"
      ],
      "metadata": {
        "id": "e2plbdetvVka"
      }
    },
    {
      "cell_type": "code",
      "source": [
        "z = [[1200,\t10,\t10,\t10,\t10,\ta] for a in range(1, 80)]"
      ],
      "metadata": {
        "id": "IT2uhFG4iBdZ"
      },
      "execution_count": null,
      "outputs": []
    },
    {
      "cell_type": "code",
      "source": [
        "pred = network.predict(scalar.transform(z))"
      ],
      "metadata": {
        "colab": {
          "base_uri": "https://localhost:8080/"
        },
        "id": "CgyntEImjFY5",
        "outputId": "e74d2dcf-d3a1-4b7d-e9f5-df9ce6e84972"
      },
      "execution_count": null,
      "outputs": [
        {
          "output_type": "stream",
          "name": "stdout",
          "text": [
            "3/3 [==============================] - 0s 4ms/step\n"
          ]
        },
        {
          "output_type": "stream",
          "name": "stderr",
          "text": [
            "/usr/local/lib/python3.10/dist-packages/sklearn/base.py:439: UserWarning: X does not have valid feature names, but MinMaxScaler was fitted with feature names\n",
            "  warnings.warn(\n"
          ]
        }
      ]
    },
    {
      "cell_type": "code",
      "source": [
        "ax = sns.lineplot(pred)\n",
        "ax.set(xlabel='Калий (фунтов на акр)', ylabel='Урожайность (тонн на акр)')"
      ],
      "metadata": {
        "colab": {
          "base_uri": "https://localhost:8080/",
          "height": 484
        },
        "id": "qGL38yyTl_5g",
        "outputId": "eddab487-38b1-4695-bc91-fc06bda554fb"
      },
      "execution_count": null,
      "outputs": [
        {
          "output_type": "execute_result",
          "data": {
            "text/plain": [
              "[Text(0.5, 0, 'Калий (фунтов на акр)'),\n",
              " Text(0, 0.5, 'Урожайность (тонн на акр)')]"
            ]
          },
          "metadata": {},
          "execution_count": 55
        },
        {
          "output_type": "display_data",
          "data": {
            "text/plain": [
              "<Figure size 640x480 with 1 Axes>"
            ],
            "image/png": "[encoded data removed]"
          },
          "metadata": {}
        }
      ]
    },
    {
      "cell_type": "code",
      "source": [
        "z = [[a,\t10,\t10,\t10,\t10,\t10] for a in range(300, 1600, 100)]\n",
        "pred = network.predict(scalar.transform(z))\n",
        "ax = sns.lineplot(pd.DataFrame(pred, index=list(range(300, 1600, 100))))\n",
        "ax.set(xlabel='Осадки (мм)', ylabel='Урожайность (тонн на акр)')"
      ],
      "metadata": {
        "colab": {
          "base_uri": "https://localhost:8080/",
          "height": 518
        },
        "id": "_LoEkgmX5-3j",
        "outputId": "16df962f-62c6-49f8-96f9-b129a1d1b6ae"
      },
      "execution_count": null,
      "outputs": [
        {
          "output_type": "stream",
          "name": "stderr",
          "text": [
            "/usr/local/lib/python3.10/dist-packages/sklearn/base.py:439: UserWarning: X does not have valid feature names, but MinMaxScaler was fitted with feature names\n",
            "  warnings.warn(\n"
          ]
        },
        {
          "output_type": "stream",
          "name": "stdout",
          "text": [
            "1/1 [==============================] - 0s 121ms/step\n"
          ]
        },
        {
          "output_type": "execute_result",
          "data": {
            "text/plain": [
              "[Text(0.5, 0, 'Осадки (мм)'), Text(0, 0.5, 'Урожайность (тонн на акр)')]"
            ]
          },
          "metadata": {},
          "execution_count": 56
        },
        {
          "output_type": "display_data",
          "data": {
            "text/plain": [
              "<Figure size 640x480 with 1 Axes>"
            ],
            "image/png": "[encoded data removed]"
          },
          "metadata": {}
        }
      ]
    },
    {
      "cell_type": "code",
      "source": [
        "z = [[10,\t10, a,\t10,\t10,\t10] for a in range(0, 80)]\n",
        "pred = network.predict(scalar.transform(z))\n",
        "ax = sns.lineplot(pd.DataFrame(pred, index=list(range(0, 80))))\n",
        "ax.set(xlabel='Температура', ylabel='Урожайность')"
      ],
      "metadata": {
        "colab": {
          "base_uri": "https://localhost:8080/",
          "height": 518
        },
        "id": "XLDQM68xnKjK",
        "outputId": "d6eded28-8ca0-41c8-d34b-79c9c67e7c7b"
      },
      "execution_count": null,
      "outputs": [
        {
          "output_type": "stream",
          "name": "stdout",
          "text": [
            "3/3 [==============================] - 0s 5ms/step\n"
          ]
        },
        {
          "output_type": "stream",
          "name": "stderr",
          "text": [
            "/usr/local/lib/python3.10/dist-packages/sklearn/base.py:439: UserWarning: X does not have valid feature names, but MinMaxScaler was fitted with feature names\n",
            "  warnings.warn(\n"
          ]
        },
        {
          "output_type": "execute_result",
          "data": {
            "text/plain": [
              "[Text(0.5, 0, 'Температура'), Text(0, 0.5, 'Урожайность')]"
            ]
          },
          "metadata": {},
          "execution_count": 47
        },
        {
          "output_type": "display_data",
          "data": {
            "text/plain": [
              "<Figure size 640x480 with 1 Axes>"
            ],
            "image/png": "[encoded data removed]"
          },
          "metadata": {}
        }
      ]
    },
    {
      "cell_type": "code",
      "source": [
        "z = [[10,\t10, 10,\t10,\ta,\t10] for a in range(0, 80)]\n",
        "pred = network.predict(scalar.transform(z))\n",
        "ax = sns.lineplot(pd.DataFrame(pred, index=list(range(0, 80))))\n",
        "ax.set(xlabel='Фосфор (фунтов на акр)', ylabel='Урожайность (тонн на акр)')"
      ],
      "metadata": {
        "colab": {
          "base_uri": "https://localhost:8080/",
          "height": 536
        },
        "id": "HNOR7r8nHnpX",
        "outputId": "66b3c867-0cc6-489b-bee0-bd4221a155d7"
      },
      "execution_count": null,
      "outputs": [
        {
          "output_type": "stream",
          "name": "stderr",
          "text": [
            "/usr/local/lib/python3.10/dist-packages/sklearn/base.py:439: UserWarning: X does not have valid feature names, but MinMaxScaler was fitted with feature names\n",
            "  warnings.warn(\n"
          ]
        },
        {
          "output_type": "stream",
          "name": "stdout",
          "text": [
            "3/3 [==============================] - 0s 9ms/step\n"
          ]
        },
        {
          "output_type": "execute_result",
          "data": {
            "text/plain": [
              "[Text(0.5, 0, 'Фосфор (фунтов на акр)'),\n",
              " Text(0, 0.5, 'Урожайность (тонн на акр)')]"
            ]
          },
          "metadata": {},
          "execution_count": 57
        },
        {
          "output_type": "display_data",
          "data": {
            "text/plain": [
              "<Figure size 640x480 with 1 Axes>"
            ],
            "image/png": "[encoded data removed]"
          },
          "metadata": {}
        }
      ]
    },
    {
      "cell_type": "code",
      "source": [
        "z = [[10,\t10, 10,\ta,\t10,\t10] for a in range(0, 80)]\n",
        "pred = network.predict(scalar.transform(z))\n",
        "ax = sns.lineplot(pd.DataFrame(pred, index=list(range(0, 80))))\n",
        "ax.set(xlabel='Азот (фунтов на акр)', ylabel='Урожайность (тонн на акр)')"
      ],
      "metadata": {
        "colab": {
          "base_uri": "https://localhost:8080/",
          "height": 536
        },
        "id": "Taye5eHMnrRg",
        "outputId": "ac475b02-374a-4130-8272-1f61cc3064fb"
      },
      "execution_count": null,
      "outputs": [
        {
          "output_type": "stream",
          "name": "stderr",
          "text": [
            "/usr/local/lib/python3.10/dist-packages/sklearn/base.py:439: UserWarning: X does not have valid feature names, but MinMaxScaler was fitted with feature names\n",
            "  warnings.warn(\n"
          ]
        },
        {
          "output_type": "stream",
          "name": "stdout",
          "text": [
            "3/3 [==============================] - 0s 6ms/step\n"
          ]
        },
        {
          "output_type": "execute_result",
          "data": {
            "text/plain": [
              "[Text(0.5, 0, 'Азот (фунтов на акр)'),\n",
              " Text(0, 0.5, 'Урожайность (тонн на акр)')]"
            ]
          },
          "metadata": {},
          "execution_count": 58
        },
        {
          "output_type": "display_data",
          "data": {
            "text/plain": [
              "<Figure size 640x480 with 1 Axes>"
            ],
            "image/png": "[encoded data removed]"
          },
          "metadata": {}
        }
      ]
    },
    {
      "cell_type": "markdown",
      "source": [
        "График ошибки"
      ],
      "metadata": {
        "id": "OoUL8sACvsAx"
      }
    },
    {
      "cell_type": "code",
      "source": [
        "plt.plot(history.history['loss'])\n",
        "plt.plot(history.history['val_loss'])\n",
        "plt.ylabel('MSE')\n",
        "plt.xlabel('epoch')\n",
        "plt.legend(['train', 'val'], loc='upper left')\n",
        "plt.show()"
      ],
      "metadata": {
        "colab": {
          "base_uri": "https://localhost:8080/",
          "height": 449
        },
        "id": "AjYgzKv5vq9v",
        "outputId": "80b7c649-2d03-45ce-e516-62fd03f3568b"
      },
      "execution_count": null,
      "outputs": [
        {
          "output_type": "display_data",
          "data": {
            "text/plain": [
              "<Figure size 640x480 with 1 Axes>"
            ],
            "image/png": "[encoded data removed]"
          },
          "metadata": {}
        }
      ]
    },
    {
      "cell_type": "markdown",
      "source": [
        "Решение методов линейной регрессии"
      ],
      "metadata": {
        "id": "Aukzja66vZXC"
      }
    },
    {
      "cell_type": "code",
      "source": [
        "sol = np.linalg.lstsq(X_train, y_train)"
      ],
      "metadata": {
        "colab": {
          "base_uri": "https://localhost:8080/"
        },
        "id": "DLgyWwiCYprO",
        "outputId": "7b766156-13ca-4f8a-fee0-17863350dedf"
      },
      "execution_count": null,
      "outputs": [
        {
          "output_type": "stream",
          "name": "stderr",
          "text": [
            "<ipython-input-84-da1b8843180a>:1: FutureWarning: `rcond` parameter will change to the default of machine precision times ``max(M, N)`` where M and N are the input matrix dimensions.\n",
            "To use the future default and silence this warning we advise to pass `rcond=None`, to keep using the old, explicitly pass `rcond=-1`.\n",
            "  sol = np.linalg.lstsq(X_train, y_train)\n"
          ]
        }
      ]
    },
    {
      "cell_type": "code",
      "source": [
        "pd.DataFrame(np.array([sol[0] @ X_test.T, y_test]).T, columns=[\"Предсказание\", \"Реальные данные\"], index=[1,2,3,4,5,6,7,8,9]).plot.bar()"
      ],
      "metadata": {
        "colab": {
          "base_uri": "https://localhost:8080/",
          "height": 442
        },
        "id": "CxFZxxhxv0J4",
        "outputId": "9a798fc7-cc35-43a7-8494-1f09e53f7786"
      },
      "execution_count": null,
      "outputs": [
        {
          "output_type": "execute_result",
          "data": {
            "text/plain": [
              "<Axes: >"
            ]
          },
          "metadata": {},
          "execution_count": 85
        },
        {
          "output_type": "display_data",
          "data": {
            "text/plain": [
              "<Figure size 640x480 with 1 Axes>"
            ],
            "image/png": "[encoded data removed]"
          },
          "metadata": {}
        }
      ]
    },
    {
      "cell_type": "code",
      "source": [
        "mse_test_lsq = ((sol[0] @ X_test.T - y_test.to_numpy())**2).mean()"
      ],
      "metadata": {
        "id": "4AEmy6WsZtDA"
      },
      "execution_count": null,
      "outputs": []
    },
    {
      "cell_type": "code",
      "source": [
        "np.sum((sol[0] @ X_train.T - y_train.to_numpy())**2) / (np.var(y_train) * 80) # Детерминация"
      ],
      "metadata": {
        "colab": {
          "base_uri": "https://localhost:8080/"
        },
        "id": "QdF7ZV59lGGK",
        "outputId": "e38458b7-57c7-4bb8-a062-3bc1071a6f7f"
      },
      "execution_count": null,
      "outputs": [
        {
          "output_type": "execute_result",
          "data": {
            "text/plain": [
              "0.10311476419930066"
            ]
          },
          "metadata": {},
          "execution_count": 95
        }
      ]
    },
    {
      "cell_type": "code",
      "source": [
        "np.sum((sol[0] @ X_test.T - y_test.to_numpy())**2) / (np.var(y_test) * 9) # Детерминация"
      ],
      "metadata": {
        "colab": {
          "base_uri": "https://localhost:8080/"
        },
        "id": "QscoGEnMY3Q8",
        "outputId": "e2ec03e2-c1e9-4844-e3f9-a3c945c4cc88"
      },
      "execution_count": null,
      "outputs": [
        {
          "output_type": "execute_result",
          "data": {
            "text/plain": [
              "0.3618379403231536"
            ]
          },
          "metadata": {},
          "execution_count": 96
        }
      ]
    }
  ]
}